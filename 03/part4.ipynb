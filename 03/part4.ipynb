{
 "cells": [
  {
   "metadata": {},
   "cell_type": "markdown",
   "source": "Problem 1",
   "id": "1145e3a637fc06f6"
  },
  {
   "metadata": {
    "SqlCellData": {
     "data_source_name": "practice3@localhost",
     "variableName$1": "df_sql"
    },
    "ExecuteTime": {
     "end_time": "2024-05-22T08:29:33.033724700Z",
     "start_time": "2024-05-22T08:29:32.816159100Z"
    }
   },
   "cell_type": "code",
   "source": [
    "%%sql\n",
    "drop table if exists yttlj;"
   ],
   "id": "5f1ecdab5e25723",
   "execution_count": null,
   "outputs": []
  },
  {
   "metadata": {
    "SqlCellData": {
     "data_source_name": "practice3@localhost",
     "variableName$1": "df_sql1"
    },
    "ExecuteTime": {
     "end_time": "2024-05-22T08:29:33.079652100Z",
     "start_time": "2024-05-22T08:29:33.035723100Z"
    }
   },
   "cell_type": "code",
   "source": [
    "%%sql\n",
    "create table yttlj\n",
    "(\n",
    "    phaseId   int,\n",
    "    phaseText text\n",
    ");"
   ],
   "id": "11109665b36e2eed",
   "execution_count": null,
   "outputs": []
  },
  {
   "metadata": {
    "SqlCellData": {
     "data_source_name": "practice3@localhost",
     "variableName$1": "df_sql12"
    },
    "ExecuteTime": {
     "end_time": "2024-05-22T08:29:33.175826300Z",
     "start_time": "2024-05-22T08:29:33.080862700Z"
    }
   },
   "cell_type": "code",
   "execution_count": null,
   "source": [
    "%%sql\n",
    "-- WARNING: change the path to the file\n",
    "copy yttlj from '/var/lib/postgresql/yttlj.csv' delimiter ',' csv header;"
   ],
   "id": "109bb207dcaa7684",
   "outputs": []
  },
  {
   "metadata": {},
   "cell_type": "markdown",
   "source": "Problem 2",
   "id": "47abc35ada9090af"
  },
  {
   "metadata": {
    "SqlCellData": {
     "data_source_name": "practice3@localhost",
     "variableName$1": "df_sql2"
    },
    "ExecuteTime": {
     "end_time": "2024-05-22T08:29:33.191064400Z",
     "start_time": "2024-05-22T08:29:33.177415200Z"
    }
   },
   "cell_type": "code",
   "source": [
    "%%sql\n",
    "drop table if exists person;"
   ],
   "id": "e2a0609b2e21dcdf",
   "execution_count": null,
   "outputs": []
  },
  {
   "metadata": {
    "SqlCellData": {
     "data_source_name": "practice3@localhost",
     "variableName$1": "df_sql3"
    },
    "ExecuteTime": {
     "end_time": "2024-05-22T08:29:33.211608700Z",
     "start_time": "2024-05-22T08:29:33.192155600Z"
    }
   },
   "cell_type": "code",
   "source": [
    "%%sql\n",
    "create table person\n",
    "(\n",
    "    personId   int,\n",
    "    personName text\n",
    ");"
   ],
   "id": "c5b8bb23460f3cd1",
   "execution_count": null,
   "outputs": []
  },
  {
   "metadata": {
    "SqlCellData": {
     "data_source_name": "practice3@localhost",
     "variableName$1": "df_sql13"
    },
    "ExecuteTime": {
     "end_time": "2024-05-22T08:29:33.227879300Z",
     "start_time": "2024-05-22T08:29:33.212695300Z"
    }
   },
   "cell_type": "code",
   "source": [
    "%%sql\n",
    "-- WARNING: change the path to the file\n",
    "copy person from '/var/lib/postgresql/Person.csv' delimiter ',' csv header;"
   ],
   "id": "dcead938c1e402b8",
   "execution_count": 8,
   "outputs": []
  },
  {
   "metadata": {},
   "cell_type": "markdown",
   "source": "Problem 3",
   "id": "f8b672ff0b71e476"
  },
  {
   "metadata": {
    "SqlCellData": {
     "data_source_name": "practice3@localhost",
     "variableName$1": "df_sql4"
    },
    "ExecuteTime": {
     "end_time": "2024-05-22T08:29:33.248964500Z",
     "start_time": "2024-05-22T08:29:33.229394900Z"
    }
   },
   "cell_type": "code",
   "source": [
    "%%sql\n",
    "-- create table for coCurrent\n",
    "drop table if exists coCurrent;"
   ],
   "id": "23bd7d96571f605e",
   "execution_count": null,
   "outputs": []
  },
  {
   "metadata": {
    "SqlCellData": {
     "data_source_name": "practice3@localhost",
     "variableName$1": "df_sql5"
    },
    "ExecuteTime": {
     "end_time": "2024-05-22T08:29:33.263951200Z",
     "start_time": "2024-05-22T08:29:33.250135500Z"
    }
   },
   "cell_type": "code",
   "source": [
    "%%sql\n",
    "create table coCurrent\n",
    "(\n",
    "    personId1 int,\n",
    "    personId2 int,\n",
    "    counts    int\n",
    ");"
   ],
   "id": "db8960fedc67adc5",
   "execution_count": null,
   "outputs": []
  },
  {
   "metadata": {
    "SqlCellData": {
     "data_source_name": "practice3@localhost",
     "variableName$1": "df_sql6"
    },
    "ExecuteTime": {
     "end_time": "2024-05-22T08:29:33.284864500Z",
     "start_time": "2024-05-22T08:29:33.265093900Z"
    }
   },
   "cell_type": "code",
   "source": [
    "%%sql\n",
    "-- get bit string for each person\n",
    "create or replace function getBitString(pName text) returns bit(45) as\n",
    "$$\n",
    "declare\n",
    "    bitString bit(45) := repeat('0', 45)::bit(45);\n",
    "    idx       int     := 0;\n",
    "begin\n",
    "    for idx in 0..44\n",
    "        loop\n",
    "            if exists (select 1 from yttlj where phaseId = idx and phaseText like '%' || pName || '%') then\n",
    "                bitString := bitString | (1::bit(45) << idx);\n",
    "            end if;\n",
    "        end loop;\n",
    "    return bitString;\n",
    "end;\n",
    "$$ language plpgsql;"
   ],
   "id": "6316100ee1815c76",
   "execution_count": null,
   "outputs": []
  },
  {
   "metadata": {
    "SqlCellData": {
     "data_source_name": "practice3@localhost",
     "variableName$1": "df_sql10"
    },
    "ExecuteTime": {
     "end_time": "2024-05-22T08:29:33.298276900Z",
     "start_time": "2024-05-22T08:29:33.286058300Z"
    }
   },
   "cell_type": "code",
   "execution_count": null,
   "source": [
    "%%sql\n",
    "alter table person add column phaseContains bit(45);"
   ],
   "id": "117349a32595d278",
   "outputs": []
  },
  {
   "metadata": {
    "SqlCellData": {
     "data_source_name": "practice3@localhost",
     "variableName$1": "df_sql7"
    },
    "ExecuteTime": {
     "end_time": "2024-05-22T08:29:33.482948100Z",
     "start_time": "2024-05-22T08:29:33.299594600Z"
    }
   },
   "cell_type": "code",
   "source": [
    "%%sql\n",
    "-- update person\n",
    "update person\n",
    "set phaseContains = getBitString(personName)\n",
    "where person.personid < 1000; -- make sql happy"
   ],
   "id": "9095727227556cf8",
   "execution_count": null,
   "outputs": []
  },
  {
   "metadata": {
    "SqlCellData": {
     "data_source_name": "practice3@localhost",
     "variableName$1": "df_sql8"
    },
    "ExecuteTime": {
     "end_time": "2024-05-22T08:29:33.498957800Z",
     "start_time": "2024-05-22T08:29:33.484202800Z"
    }
   },
   "cell_type": "code",
   "source": [
    "%%sql\n",
    "-- create function to count bits\n",
    "create or replace function bitCount(bitString bit(45)) returns int as\n",
    "$$\n",
    "declare\n",
    "    count int := 0;\n",
    "    idx   int;\n",
    "begin\n",
    "    for idx in 0..44\n",
    "        loop\n",
    "            if (bitString & (1::bit(45) << idx)) <> 0::bit(45) then\n",
    "                count := count + 1;\n",
    "            end if;\n",
    "        end loop;\n",
    "    return count;\n",
    "end;\n",
    "$$ language plpgsql;"
   ],
   "id": "2c9d33fc9bd73447",
   "execution_count": null,
   "outputs": []
  },
  {
   "metadata": {
    "SqlCellData": {
     "data_source_name": "practice3@localhost",
     "variableName$1": "df_sql9"
    },
    "ExecuteTime": {
     "end_time": "2024-05-22T08:29:33.519864900Z",
     "start_time": "2024-05-22T08:29:33.500319Z"
    }
   },
   "cell_type": "code",
   "source": [
    "%%sql\n",
    "-- update coCurrent\n",
    "insert into coCurrent\n",
    "select p1.personId, p2.personId, bitCount(p1.phaseContains & p2.phaseContains)\n",
    "from person p1\n",
    "         join person p2 on p1.personId <= p2.personId;"
   ],
   "id": "e8d6c4caf9168c98",
   "execution_count": null,
   "outputs": []
  },
  {
   "metadata": {
    "SqlCellData": {
     "data_source_name": "practice3@localhost",
     "variableName$1": "coCurrent"
    },
    "ExecuteTime": {
     "end_time": "2024-05-22T08:29:33.567863Z",
     "start_time": "2024-05-22T08:29:33.521803500Z"
    }
   },
   "cell_type": "code",
   "source": [
    "%%sql\n",
    "select * from cocurrent;"
   ],
   "id": "3c178cfd3b1fa5b5",
   "outputs": [
    {
     "data": {
      "text/plain": [
       "     personid1  personid2  counts\n",
       "0            0          0      34\n",
       "1            0          1      22\n",
       "2            0          2      12\n",
       "3            0          3      20\n",
       "4            0          4      20\n",
       "..         ...        ...     ...\n",
       "226         18         19       9\n",
       "227         18         20      13\n",
       "228         19         19      16\n",
       "229         19         20       8\n",
       "230         20         20      16\n",
       "\n",
       "[231 rows x 3 columns]"
      ],
      "text/html": [
       "<div>\n",
       "<style scoped>\n",
       "    .dataframe tbody tr th:only-of-type {\n",
       "        vertical-align: middle;\n",
       "    }\n",
       "\n",
       "    .dataframe tbody tr th {\n",
       "        vertical-align: top;\n",
       "    }\n",
       "\n",
       "    .dataframe thead th {\n",
       "        text-align: right;\n",
       "    }\n",
       "</style>\n",
       "<table border=\"1\" class=\"dataframe\">\n",
       "  <thead>\n",
       "    <tr style=\"text-align: right;\">\n",
       "      <th></th>\n",
       "      <th>personid1</th>\n",
       "      <th>personid2</th>\n",
       "      <th>counts</th>\n",
       "    </tr>\n",
       "  </thead>\n",
       "  <tbody>\n",
       "    <tr>\n",
       "      <th>0</th>\n",
       "      <td>0</td>\n",
       "      <td>0</td>\n",
       "      <td>34</td>\n",
       "    </tr>\n",
       "    <tr>\n",
       "      <th>1</th>\n",
       "      <td>0</td>\n",
       "      <td>1</td>\n",
       "      <td>22</td>\n",
       "    </tr>\n",
       "    <tr>\n",
       "      <th>2</th>\n",
       "      <td>0</td>\n",
       "      <td>2</td>\n",
       "      <td>12</td>\n",
       "    </tr>\n",
       "    <tr>\n",
       "      <th>3</th>\n",
       "      <td>0</td>\n",
       "      <td>3</td>\n",
       "      <td>20</td>\n",
       "    </tr>\n",
       "    <tr>\n",
       "      <th>4</th>\n",
       "      <td>0</td>\n",
       "      <td>4</td>\n",
       "      <td>20</td>\n",
       "    </tr>\n",
       "    <tr>\n",
       "      <th>...</th>\n",
       "      <td>...</td>\n",
       "      <td>...</td>\n",
       "      <td>...</td>\n",
       "    </tr>\n",
       "    <tr>\n",
       "      <th>226</th>\n",
       "      <td>18</td>\n",
       "      <td>19</td>\n",
       "      <td>9</td>\n",
       "    </tr>\n",
       "    <tr>\n",
       "      <th>227</th>\n",
       "      <td>18</td>\n",
       "      <td>20</td>\n",
       "      <td>13</td>\n",
       "    </tr>\n",
       "    <tr>\n",
       "      <th>228</th>\n",
       "      <td>19</td>\n",
       "      <td>19</td>\n",
       "      <td>16</td>\n",
       "    </tr>\n",
       "    <tr>\n",
       "      <th>229</th>\n",
       "      <td>19</td>\n",
       "      <td>20</td>\n",
       "      <td>8</td>\n",
       "    </tr>\n",
       "    <tr>\n",
       "      <th>230</th>\n",
       "      <td>20</td>\n",
       "      <td>20</td>\n",
       "      <td>16</td>\n",
       "    </tr>\n",
       "  </tbody>\n",
       "</table>\n",
       "<p>231 rows × 3 columns</p>\n",
       "</div>"
      ]
     },
     "execution_count": 32,
     "metadata": {},
     "output_type": "execute_result"
    }
   ],
   "execution_count": 32
  },
  {
   "metadata": {},
   "cell_type": "markdown",
   "source": "Problem 4 & 5",
   "id": "62fb13031e91522a"
  },
  {
   "metadata": {
    "ExecuteTime": {
     "end_time": "2024-05-22T08:29:33.578432Z",
     "start_time": "2024-05-22T08:29:33.568870Z"
    }
   },
   "cell_type": "code",
   "source": [
    "import numpy as np\n",
    "\n",
    "\n",
    "def nmf_train(V, components, iternum, e):\n",
    "    \"\"\"\n",
    "    非负矩阵分解函数\n",
    "    :param V:  原始矩阵\n",
    "    :param components:  要提取多少个特征\n",
    "    :param iternum: 迭代次数\n",
    "    :param e: 误差阈值\n",
    "    :return:\n",
    "    \"\"\"\n",
    "    m, n = V.shape\n",
    "    # 随机初始化两个矩阵\n",
    "    W = np.random.random((m, components))\n",
    "    H = np.random.random((components, n))\n",
    "\n",
    "    for iter in range(iternum):\n",
    "        V_pre = np.dot(W, H)\n",
    "        E = V - V_pre\n",
    "\n",
    "        err = np.sum(E * E)\n",
    "        if iter % 1000 == 0:\n",
    "            print(err)\n",
    "        if err < e:\n",
    "            break\n",
    "        # 对照更新公式\n",
    "        a = np.dot(W.T, V)\n",
    "        b = np.dot(W.T, np.dot(W, H))\n",
    "        H[b != 0] = (H * a / b)[b != 0]\n",
    "\n",
    "        c = np.dot(V, H.T)\n",
    "        d = np.dot(W, np.dot(H, H.T))\n",
    "\n",
    "        W[d != 0] = (W * c / d)[d != 0]\n",
    "    return W, H"
   ],
   "id": "d77a19021ec0cf04",
   "outputs": [],
   "execution_count": 33
  },
  {
   "metadata": {
    "ExecuteTime": {
     "end_time": "2024-05-22T08:29:34.110463Z",
     "start_time": "2024-05-22T08:29:33.578982Z"
    }
   },
   "cell_type": "code",
   "source": [
    "import psycopg2\n",
    "\n",
    "# WARNING: change the database name, user and password\n",
    "connection = psycopg2.connect(\"dbname=practice3 user=crl password=crlcrl123\")\n",
    "cursor = connection.cursor()\n",
    "\n",
    "cursor.execute(\"select * from coCurrent\")\n",
    "connection.commit()\n",
    "coCurrent = cursor.fetchall()\n",
    "cursor.close()\n",
    "connection.close()\n",
    "\n",
    "np.random.seed(0)\n",
    "\n",
    "max_id = 0\n",
    "for row in coCurrent:\n",
    "    max_id = max(max_id, row[0], row[1])\n",
    "\n",
    "V = np.zeros((max_id + 1, max_id + 1))\n",
    "for row in coCurrent:\n",
    "    V[row[0], row[1]] = row[2]\n",
    "V = V + V.T\n",
    "for i in range(V.shape[0]):\n",
    "    V[i, i] = V[i, i] / 2\n",
    "print(V)\n",
    "\n",
    "word_vectors, H = nmf_train(V, 50, 10000, 1e-4)"
   ],
   "id": "866f504c4346eeff",
   "outputs": [
    {
     "name": "stdout",
     "output_type": "stream",
     "text": [
      "[[34. 22. 12. 20. 20. 22. 15. 27. 19. 15.  7.  9.  1. 27.  5.  3. 21. 10.\n",
      "  21. 13. 13.]\n",
      " [22. 23. 12. 15. 16. 17. 10. 17. 12.  7.  4.  6.  0. 20.  5.  2. 12.  4.\n",
      "  13.  8. 10.]\n",
      " [12. 12. 13.  9.  7.  8.  4.  9.  7.  2.  0.  3.  0. 12.  1.  0.  5.  1.\n",
      "   5.  4.  5.]\n",
      " [20. 15.  9. 20. 16. 17.  8. 15. 12. 10.  4.  6.  0. 15.  1.  1. 10.  5.\n",
      "  12.  5.  6.]\n",
      " [20. 16.  7. 16. 21. 19. 10. 18. 13. 10.  4.  6.  0. 17.  3.  2. 14.  6.\n",
      "  15.  9.  8.]\n",
      " [22. 17.  8. 17. 19. 24. 13. 21. 18. 13.  6.  9.  0. 18.  4.  3. 17.  8.\n",
      "  19.  9. 11.]\n",
      " [15. 10.  4.  8. 10. 13. 17. 17. 12.  7.  3.  6.  0. 14.  4.  3. 14.  3.\n",
      "  14.  4. 11.]\n",
      " [27. 17.  9. 15. 18. 21. 17. 32. 24. 18.  9. 12.  1. 28.  6.  5. 26. 12.\n",
      "  22. 12. 16.]\n",
      " [19. 12.  7. 12. 13. 18. 12. 24. 24. 16.  9. 11.  1. 21.  4.  3. 21. 11.\n",
      "  17.  9. 12.]\n",
      " [15.  7.  2. 10. 10. 13.  7. 18. 16. 18.  9.  9.  1. 15.  2.  2. 17. 12.\n",
      "  13.  7.  6.]\n",
      " [ 7.  4.  0.  4.  4.  6.  3.  9.  9.  9.  9.  6.  1.  9.  2.  1.  8.  7.\n",
      "   7.  3.  4.]\n",
      " [ 9.  6.  3.  6.  6.  9.  6. 12. 11.  9.  6. 12.  1. 10.  3.  2. 12.  5.\n",
      "   8.  5.  8.]\n",
      " [ 1.  0.  0.  0.  0.  0.  0.  1.  1.  1.  1.  1.  1.  1.  0.  0.  1.  1.\n",
      "   1.  1.  1.]\n",
      " [27. 20. 12. 15. 17. 18. 14. 28. 21. 15.  9. 10.  1. 32.  5.  4. 22. 11.\n",
      "  19. 13. 14.]\n",
      " [ 5.  5.  1.  1.  3.  4.  4.  6.  4.  2.  2.  3.  0.  5.  6.  3.  5.  1.\n",
      "   5.  2.  5.]\n",
      " [ 3.  2.  0.  1.  2.  3.  3.  5.  3.  2.  1.  2.  0.  4.  3.  5.  4.  1.\n",
      "   4.  2.  3.]\n",
      " [21. 12.  5. 10. 14. 17. 14. 26. 21. 17.  8. 12.  1. 22.  5.  4. 26. 12.\n",
      "  18. 11. 13.]\n",
      " [10.  4.  1.  5.  6.  8.  3. 12. 11. 12.  7.  5.  1. 11.  1.  1. 12. 12.\n",
      "   9.  6.  3.]\n",
      " [21. 13.  5. 12. 15. 19. 14. 22. 17. 13.  7.  8.  1. 19.  5.  4. 18.  9.\n",
      "  23.  9. 13.]\n",
      " [13.  8.  4.  5.  9.  9.  4. 12.  9.  7.  3.  5.  1. 13.  2.  2. 11.  6.\n",
      "   9. 16.  8.]\n",
      " [13. 10.  5.  6.  8. 11. 11. 16. 12.  6.  4.  8.  1. 14.  5.  3. 13.  3.\n",
      "  13.  8. 16.]]\n",
      "27761.88099610537\n",
      "0.6266796639212511\n",
      "0.15109112170375058\n",
      "0.07064325058833429\n",
      "0.04075456610415511\n",
      "0.02614722576660548\n",
      "0.018310923214035067\n",
      "0.013833057763778727\n",
      "0.01090343780946313\n",
      "0.008826291316480184\n"
     ]
    }
   ],
   "execution_count": 34
  },
  {
   "metadata": {
    "SqlCellData": {
     "data_source_name": "practice3@localhost",
     "variableName$1": "df_sql14"
    },
    "ExecuteTime": {
     "end_time": "2024-05-22T08:29:33.607555900Z",
     "start_time": "2024-05-22T08:29:33.562872500Z"
    }
   },
   "cell_type": "code",
   "execution_count": null,
   "source": [
    "%%sql\n",
    "create extension if not exists vector;"
   ],
   "id": "be4263c43c3c4d8a",
   "outputs": []
  },
  {
   "metadata": {
    "SqlCellData": {
     "data_source_name": "practice3@localhost",
     "variableName$1": "df_sql15"
    },
    "ExecuteTime": {
     "end_time": "2024-05-22T08:29:33.681856300Z",
     "start_time": "2024-05-22T08:29:33.646575200Z"
    }
   },
   "cell_type": "code",
   "source": [
    "%%sql\n",
    "alter table person add column word_vector vector(50);"
   ],
   "id": "345e97a4b0f45c90",
   "execution_count": 79,
   "outputs": []
  },
  {
   "metadata": {
    "ExecuteTime": {
     "end_time": "2024-05-22T08:29:34.139935Z",
     "start_time": "2024-05-22T08:29:34.111792Z"
    }
   },
   "cell_type": "code",
   "source": [
    "# WARNING: change the database name, user and password\n",
    "connection = psycopg2.connect(\"dbname=practice3 user=crl password=crlcrl123\")\n",
    "cursor = connection.cursor()\n",
    "\n",
    "for person_id, word_vector in enumerate(word_vectors):\n",
    "    cursor.execute(\"update person set word_vector = '[{}]' where personid = {}\"\n",
    "                   .format(\",\".join(word_vector.astype(str)), person_id))\n",
    "\n",
    "connection.commit()\n",
    "cursor.close()\n",
    "connection.close()"
   ],
   "id": "986fed56e28f29f3",
   "outputs": [],
   "execution_count": 35
  },
  {
   "metadata": {
    "SqlCellData": {
     "data_source_name": "practice3@localhost",
     "variableName$1": "df_sql18"
    },
    "ExecuteTime": {
     "end_time": "2024-05-22T08:29:43.024233Z",
     "start_time": "2024-05-22T08:29:42.977897400Z"
    }
   },
   "cell_type": "code",
   "source": [
    "%%sql\n",
    "select p1.personName, p2.personName, p1.word_vector <=> p2.word_vector as similarity\n",
    "from person p1, person p2\n",
    "where p1.personId < p2.personId\n",
    "order by similarity \n",
    "limit 20;"
   ],
   "id": "7c1e9778caf513a7",
   "outputs": [
    {
     "data": {
      "text/plain": [
       "   personname personname.1  similarity\n",
       "0         张无忌           杨逍    0.204253\n",
       "1         俞莲舟          殷梨亭    0.226738\n",
       "2         张三丰          俞莲舟    0.229455\n",
       "3          赵敏           范遥    0.234185\n",
       "4         张三丰          殷梨亭    0.253494\n",
       "5         张三丰           谢逊    0.265402\n",
       "6         张无忌           谢逊    0.280180\n",
       "7         殷梨亭          周芷若    0.289047\n",
       "8         殷梨亭         灭绝师太    0.289276\n",
       "9         张无忌         灭绝师太    0.298040\n",
       "10        张三丰          张无忌    0.304227\n",
       "11        周芷若           范遥    0.315149\n",
       "12         赵敏           杨逍    0.316564\n",
       "13        周芷若           谢逊    0.319909\n",
       "14        俞岱岩          俞莲舟    0.321069\n",
       "15         赵敏           殷离    0.326103\n",
       "16        张三丰          张翠山    0.330770\n",
       "17        周芷若           赵敏    0.339957\n",
       "18        张翠山          殷梨亭    0.344890\n",
       "19        张翠山          殷素素    0.347217"
      ],
      "text/html": [
       "<div>\n",
       "<style scoped>\n",
       "    .dataframe tbody tr th:only-of-type {\n",
       "        vertical-align: middle;\n",
       "    }\n",
       "\n",
       "    .dataframe tbody tr th {\n",
       "        vertical-align: top;\n",
       "    }\n",
       "\n",
       "    .dataframe thead th {\n",
       "        text-align: right;\n",
       "    }\n",
       "</style>\n",
       "<table border=\"1\" class=\"dataframe\">\n",
       "  <thead>\n",
       "    <tr style=\"text-align: right;\">\n",
       "      <th></th>\n",
       "      <th>personname</th>\n",
       "      <th>personname.1</th>\n",
       "      <th>similarity</th>\n",
       "    </tr>\n",
       "  </thead>\n",
       "  <tbody>\n",
       "    <tr>\n",
       "      <th>0</th>\n",
       "      <td>张无忌</td>\n",
       "      <td>杨逍</td>\n",
       "      <td>0.204253</td>\n",
       "    </tr>\n",
       "    <tr>\n",
       "      <th>1</th>\n",
       "      <td>俞莲舟</td>\n",
       "      <td>殷梨亭</td>\n",
       "      <td>0.226738</td>\n",
       "    </tr>\n",
       "    <tr>\n",
       "      <th>2</th>\n",
       "      <td>张三丰</td>\n",
       "      <td>俞莲舟</td>\n",
       "      <td>0.229455</td>\n",
       "    </tr>\n",
       "    <tr>\n",
       "      <th>3</th>\n",
       "      <td>赵敏</td>\n",
       "      <td>范遥</td>\n",
       "      <td>0.234185</td>\n",
       "    </tr>\n",
       "    <tr>\n",
       "      <th>4</th>\n",
       "      <td>张三丰</td>\n",
       "      <td>殷梨亭</td>\n",
       "      <td>0.253494</td>\n",
       "    </tr>\n",
       "    <tr>\n",
       "      <th>5</th>\n",
       "      <td>张三丰</td>\n",
       "      <td>谢逊</td>\n",
       "      <td>0.265402</td>\n",
       "    </tr>\n",
       "    <tr>\n",
       "      <th>6</th>\n",
       "      <td>张无忌</td>\n",
       "      <td>谢逊</td>\n",
       "      <td>0.280180</td>\n",
       "    </tr>\n",
       "    <tr>\n",
       "      <th>7</th>\n",
       "      <td>殷梨亭</td>\n",
       "      <td>周芷若</td>\n",
       "      <td>0.289047</td>\n",
       "    </tr>\n",
       "    <tr>\n",
       "      <th>8</th>\n",
       "      <td>殷梨亭</td>\n",
       "      <td>灭绝师太</td>\n",
       "      <td>0.289276</td>\n",
       "    </tr>\n",
       "    <tr>\n",
       "      <th>9</th>\n",
       "      <td>张无忌</td>\n",
       "      <td>灭绝师太</td>\n",
       "      <td>0.298040</td>\n",
       "    </tr>\n",
       "    <tr>\n",
       "      <th>10</th>\n",
       "      <td>张三丰</td>\n",
       "      <td>张无忌</td>\n",
       "      <td>0.304227</td>\n",
       "    </tr>\n",
       "    <tr>\n",
       "      <th>11</th>\n",
       "      <td>周芷若</td>\n",
       "      <td>范遥</td>\n",
       "      <td>0.315149</td>\n",
       "    </tr>\n",
       "    <tr>\n",
       "      <th>12</th>\n",
       "      <td>赵敏</td>\n",
       "      <td>杨逍</td>\n",
       "      <td>0.316564</td>\n",
       "    </tr>\n",
       "    <tr>\n",
       "      <th>13</th>\n",
       "      <td>周芷若</td>\n",
       "      <td>谢逊</td>\n",
       "      <td>0.319909</td>\n",
       "    </tr>\n",
       "    <tr>\n",
       "      <th>14</th>\n",
       "      <td>俞岱岩</td>\n",
       "      <td>俞莲舟</td>\n",
       "      <td>0.321069</td>\n",
       "    </tr>\n",
       "    <tr>\n",
       "      <th>15</th>\n",
       "      <td>赵敏</td>\n",
       "      <td>殷离</td>\n",
       "      <td>0.326103</td>\n",
       "    </tr>\n",
       "    <tr>\n",
       "      <th>16</th>\n",
       "      <td>张三丰</td>\n",
       "      <td>张翠山</td>\n",
       "      <td>0.330770</td>\n",
       "    </tr>\n",
       "    <tr>\n",
       "      <th>17</th>\n",
       "      <td>周芷若</td>\n",
       "      <td>赵敏</td>\n",
       "      <td>0.339957</td>\n",
       "    </tr>\n",
       "    <tr>\n",
       "      <th>18</th>\n",
       "      <td>张翠山</td>\n",
       "      <td>殷梨亭</td>\n",
       "      <td>0.344890</td>\n",
       "    </tr>\n",
       "    <tr>\n",
       "      <th>19</th>\n",
       "      <td>张翠山</td>\n",
       "      <td>殷素素</td>\n",
       "      <td>0.347217</td>\n",
       "    </tr>\n",
       "  </tbody>\n",
       "</table>\n",
       "</div>"
      ]
     },
     "execution_count": 37,
     "metadata": {},
     "output_type": "execute_result"
    }
   ],
   "execution_count": 37
  }
 ],
 "metadata": {
  "kernelspec": {
   "display_name": "Python 3",
   "language": "python",
   "name": "python3"
  },
  "language_info": {
   "codemirror_mode": {
    "name": "ipython",
    "version": 2
   },
   "file_extension": ".py",
   "mimetype": "text/x-python",
   "name": "python",
   "nbconvert_exporter": "python",
   "pygments_lexer": "ipython2",
   "version": "2.7.6"
  }
 },
 "nbformat": 4,
 "nbformat_minor": 5
}
