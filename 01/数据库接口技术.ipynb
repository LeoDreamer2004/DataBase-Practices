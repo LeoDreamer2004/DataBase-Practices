{
 "cells": [
  {
   "cell_type": "markdown",
   "id": "890868ce",
   "metadata": {},
   "source": [
    "<center><h1>使用python的pymysql操作mysql示例</center></h1>"
   ]
  },
  {
   "cell_type": "code",
   "execution_count": 2,
   "id": "3ee24ee4",
   "metadata": {},
   "outputs": [],
   "source": [
    "import pymysql\n",
    "\n",
    "# 这里需要将(user,password,db)中的“XXXXXX”替换成自己的学号,否则连的不是自己的数据库\n",
    "db = pymysql.connect(\n",
    "    host=\"162.105.146.37\",\n",
    "    user=\"stu2200010825\",\n",
    "    password=\"stu2200010825\",\n",
    "    port=53306,\n",
    "    db=\"stu2200010825\",\n",
    ")\n",
    "cursor = db.cursor()"
   ]
  },
  {
   "cell_type": "code",
   "execution_count": 3,
   "id": "4f860ea2",
   "metadata": {},
   "outputs": [
    {
     "name": "stdout",
     "output_type": "stream",
     "text": [
      "(('information_schema',), ('stu2200010825',))\n",
      "()\n"
     ]
    }
   ],
   "source": [
    "cursor.execute(\"show databases;\")\n",
    "print(cursor.fetchall())\n",
    "cursor.execute(\"show tables;\")\n",
    "print(cursor.fetchall())"
   ]
  },
  {
   "cell_type": "code",
   "execution_count": 4,
   "id": "4623d0f7",
   "metadata": {},
   "outputs": [
    {
     "data": {
      "text/plain": [
       "0"
      ]
     },
     "execution_count": 4,
     "metadata": {},
     "output_type": "execute_result"
    }
   ],
   "source": [
    "# 此处为了更好的演示，先drop表\n",
    "cursor.execute(\"drop table if exists students;\")\n",
    "\n",
    "# 建表\n",
    "sql = 'CREATE TABLE IF NOT EXISTS students (id VARCHAR(255) NOT NULL, name VARCHAR(255) NOT NULL, age INT NOT NULL, PRIMARY KEY (id))'\n",
    "cursor.execute(sql)"
   ]
  },
  {
   "cell_type": "code",
   "execution_count": 5,
   "id": "44b7e7e9",
   "metadata": {},
   "outputs": [
    {
     "name": "stdout",
     "output_type": "stream",
     "text": [
      "(('students',),)\n"
     ]
    }
   ],
   "source": [
    "cursor.execute(\"show tables;\")\n",
    "print(cursor.fetchall())"
   ]
  },
  {
   "cell_type": "code",
   "execution_count": 6,
   "id": "b1413749",
   "metadata": {},
   "outputs": [],
   "source": [
    "id = '20120001'\n",
    "user = 'Bob'\n",
    "age = 20\n",
    "sql = 'INSERT INTO students(id, name, age) values(%s, %s, %s)'\n",
    "try:\n",
    "    cursor.execute(sql, (id, user, age))\n",
    "    db.commit()\n",
    "except:\n",
    "    db.rollback()"
   ]
  },
  {
   "cell_type": "code",
   "execution_count": 7,
   "id": "32bb2fb4",
   "metadata": {},
   "outputs": [
    {
     "name": "stdout",
     "output_type": "stream",
     "text": [
      "Results: (('20120001', 'Bob', 20),)\n",
      "Results Type: <class 'tuple'>\n",
      "('20120001', 'Bob', 20)\n"
     ]
    }
   ],
   "source": [
    "sql = 'SELECT * FROM students'\n",
    "\n",
    "try:\n",
    "    cursor.execute(sql)\n",
    "    results = cursor.fetchall()\n",
    "    print('Results:', results)\n",
    "    print('Results Type:', type(results))\n",
    "    for row in results:\n",
    "        print(row)\n",
    "except:\n",
    "    print('Error')"
   ]
  },
  {
   "cell_type": "code",
   "execution_count": 8,
   "id": "42f6878f",
   "metadata": {},
   "outputs": [],
   "source": [
    "sql = 'UPDATE students SET age = %s WHERE name = %s'\n",
    "try:\n",
    "   cursor.execute(sql, (25, 'Bob'))\n",
    "   db.commit()\n",
    "except:\n",
    "   db.rollback()"
   ]
  },
  {
   "cell_type": "code",
   "execution_count": 9,
   "id": "9bc0b50f",
   "metadata": {},
   "outputs": [
    {
     "name": "stdout",
     "output_type": "stream",
     "text": [
      "Results: (('20120001', 'Bob', 25),)\n",
      "Results Type: <class 'tuple'>\n",
      "('20120001', 'Bob', 25)\n"
     ]
    }
   ],
   "source": [
    "sql = 'SELECT * FROM students'\n",
    "\n",
    "try:\n",
    "    cursor.execute(sql)\n",
    "    results = cursor.fetchall()\n",
    "    print('Results:', results)\n",
    "    print('Results Type:', type(results))\n",
    "    for row in results:\n",
    "        print(row)\n",
    "except Exception as e:\n",
    "    print(e)"
   ]
  },
  {
   "cell_type": "code",
   "execution_count": 10,
   "id": "36572798",
   "metadata": {},
   "outputs": [],
   "source": [
    "table = 'students'\n",
    "condition = 'age > 20'\n",
    "\n",
    "sql = 'DELETE FROM  {table} WHERE {condition}'.format(table=table, condition=condition)\n",
    "try:\n",
    "    cursor.execute(sql)\n",
    "    db.commit()\n",
    "except:\n",
    "    db.rollback()"
   ]
  },
  {
   "cell_type": "code",
   "execution_count": 11,
   "id": "0b4d922c",
   "metadata": {},
   "outputs": [
    {
     "name": "stdout",
     "output_type": "stream",
     "text": [
      "Results: ()\n",
      "Results Type: <class 'tuple'>\n"
     ]
    }
   ],
   "source": [
    "sql = 'SELECT * FROM students'\n",
    "\n",
    "try:\n",
    "    cursor.execute(sql)\n",
    "    results = cursor.fetchall()\n",
    "    print('Results:', results)\n",
    "    print('Results Type:', type(results))\n",
    "    for row in results:\n",
    "        print(row)\n",
    "except Exception as e:\n",
    "    print(e)"
   ]
  },
  {
   "cell_type": "code",
   "execution_count": 12,
   "id": "174875f1",
   "metadata": {},
   "outputs": [],
   "source": [
    "db.close()"
   ]
  }
 ],
 "metadata": {
  "kernelspec": {
   "display_name": "Python 3 (ipykernel)",
   "language": "python",
   "name": "python3"
  },
  "language_info": {
   "codemirror_mode": {
    "name": "ipython",
    "version": 3
   },
   "file_extension": ".py",
   "mimetype": "text/x-python",
   "name": "python",
   "nbconvert_exporter": "python",
   "pygments_lexer": "ipython3",
   "version": "3.10.5"
  }
 },
 "nbformat": 4,
 "nbformat_minor": 5
}
