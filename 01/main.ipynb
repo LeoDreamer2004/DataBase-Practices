{
 "cells": [
  {
   "cell_type": "markdown",
   "id": "890868ce",
   "metadata": {},
   "source": [
    "<center><h1>数据库概论第一次实习作业</center></h1>\n",
    "\n",
    "原梓轩 2200010825 陈润璘 2200010848 任子博 2200010626"
   ]
  },
  {
   "cell_type": "markdown",
   "metadata": {},
   "source": [
    "本次实习的目标是设计代码评测网站的数据库，包括列举业务需求、设计ER图、将ER图转换为关系表、用SQL语句实现业务功能。\n",
    "\n",
    "## 一、业务需求\n",
    "\n",
    "代码评测网站以代码提交和评测为主要功能，在此之外，我们还实现了发布帖子和评论的功能。\n",
    "\n",
    "- **代码提交:** 用户可以针对题目提交代码，提交的代码会被上传数据库，以供后续评测。\n",
    "- **代码评测:** 用户提交代码后，系统从数据库获取时间空间限制和测试用例并进行评测，评测结果会被上传数据库并可供用户查询。\n",
    "- **论坛:** 用户可以针对问题发布帖子，帖子会被上传数据库。用户也可以对已发布帖子进行评论。\n",
    "\n",
    "## 二、ER图设计\n",
    "根据上述业务需求，确定实体及实体间的联系\n",
    "\n",
    "### 1. 实体\n",
    "共设立六种实体，并确定它们各自的属性（主码用下划线来标识）\n",
    "- **用户(User)** （<u>用户id</u>，用户名，密码，等级）\n",
    "- **题目(Problem)** （<u>题目id</u>，题目名，作者id，发布时间，题目描述，难度，时间限制，内存限制）\n",
    "- **提交(Submission)** （<u>提交id</u>，用户id，题目id，提交时间，代码，编程语言，状态，分数）\n",
    "- **帖子(Post)** （<u>帖子id</u>，标题，作者id，问题id，发布时间，内容）\n",
    "- **评论(Comment)** （<u>评论id</u>，帖子id，评论者id，评论时间，内容）\n",
    "\n",
    "以上五种均为强实体，而对于输入输出对，它依赖于题目，因此将其设置为弱实体。\n",
    "- **输入输出对(IOpair)** （<u>题目id，输入输出对id</u>，输入，输出，得分，类型）\n",
    "\n",
    "### 2. 联系\n",
    "实体之间存在如下的联系：\n",
    "#### 由用户发出的一对多联系：\n",
    "- **出题** ：用户-题目之间的一对多联系。一个题目只能有一个出题人。\n",
    "- **写入** ：用户-提交之间的一对多联系。一次提交只能由一个用户发出。\n",
    "- **发帖** ：用户-帖子之间的一对多联系。一个帖子只能由一个用户编写。\n",
    "- **发表评论** ：用户-评论之间的一对多联系。一个评论只能由一个用户发表。\n",
    "#### 题目评测过程中发生的联系：\n",
    "- **提交给** ：题目-提交之间的一对多联系。提交被传给特定题目进行评测。\n",
    "- **检查** ：题目-输入输出对之间的一对多联系。输入输出对是对提交正确性进行评测的依据。\n",
    "- **测试点** ：输入输出对-提交之间的多对多联系。一个提交可以被多个输入输出对评测，一个输入输出对可以评测多个提交。\n",
    "#### 论坛中发生的联系：\n",
    "- **跟帖** ：帖子-评论之间的一对多联系。一个帖子下可以有多条评论，一条评论只能属于一个帖子。\n",
    "\n",
    "### 3. ER图\n",
    "根据列出的实体和联系，绘制ER图如下：\n",
    "<img src=./ERGraph.svg height=\"80%\" width=\"80%\"> </img>\n",
    "\n",
    "## 三、关系表创建\n",
    "完成ER图设计后，我们将ER图转换为关系表。\n",
    "\n",
    "6个实体各自对应一张表，弱实体所对应的表中有外键指向其依赖的强实体。测试点(Checkpoint)作为多对多联系，需要新建一张表来存储。其余联系均为一对多联系，不需要单独创建表，而是在“多”的一方添加外键指向“一”的一方。\n",
    "\n",
    "## 四、数据库建立\n",
    "### 1. 基本数据库准备\n",
    "数据库链接详见 [配置文件](./config.json) 。"
   ],
   "id": "94125ff8cbb364fa"
  },
  {
   "cell_type": "code",
   "execution_count": null,
   "metadata": {},
   "source": [
    "%pip install -r requirements.txt"
   ],
   "id": "432e22cf23911df5",
   "outputs": []
  },
  {
   "cell_type": "code",
   "execution_count": null,
   "id": "3ee24ee4",
   "metadata": {
    "ExecuteTime": {
     "end_time": "2024-04-08T12:35:13.402200Z",
     "start_time": "2024-04-08T12:35:12.778307Z"
    }
   },
   "source": [
    "import json\n",
    "import pymysql\n",
    "from IPython import get_ipython\n",
    "\n",
    "pymysql.install_as_MySQLdb()\n",
    "\n",
    "with open('./config.json') as f:\n",
    "    config = json.load(f)\n",
    "db = pymysql.connect(**config)\n",
    "cursor = db.cursor()\n",
    "db.commit()\n",
    "\n",
    "ip = get_ipython()\n",
    "ip.run_line_magic('load_ext', 'sql')\n",
    "ip.run_line_magic('sql', f\"mysql://{config['user']}:{config['password']}@{config['host']}:{config['port']}\")\n",
    "ip.run_line_magic('sql', f\"use {config['db']};\")"
   ],
   "outputs": []
  },
  {
   "cell_type": "markdown",
   "id": "5b580f8e0a47101d",
   "metadata": {},
   "source": [
    "清理先前的数据，建立新的数据库"
   ]
  },
  {
   "cell_type": "code",
   "execution_count": 68,
   "id": "4623d0f7",
   "metadata": {
    "ExecuteTime": {
     "end_time": "2024-04-08T12:35:13.708408Z",
     "start_time": "2024-04-08T12:35:13.405575Z"
    },
    "vscode": {
     "languageId": "sql"
    },
    "SqlCellData": {
     "variableName$1": "df_sql"
    }
   },
   "source": [
    "%%sql\n",
    "/* Clean the database */\n",
    "\n",
    "# drop the tables in a correct order to avoid foreign key constraints.\n",
    "drop table if exists Checkpoint;\n",
    "drop table if exists Submission;\n",
    "drop table if exists IOPair;\n",
    "drop table if exists Comment;\n",
    "drop table if exists Post;\n",
    "drop table if exists Problem;\n",
    "drop table if exists User;\n",
    "drop trigger if exists update_user_grade;"
   ],
   "outputs": []
  },
  {
   "cell_type": "markdown",
   "metadata": {},
   "source": [
    "### 2. 建表\n",
    "按照前文ER关系图建立所需的table，包含用户、问题、提交、IO答案、测试点、帖子、评论。"
   ],
   "id": "c31c89b23f793fd1"
  },
  {
   "cell_type": "code",
   "execution_count": 69,
   "id": "858dbd9b",
   "metadata": {
    "ExecuteTime": {
     "end_time": "2024-04-08T12:35:14.010024Z",
     "start_time": "2024-04-08T12:35:13.715026Z"
    },
    "vscode": {
     "languageId": "sql"
    },
    "SqlCellData": {
     "variableName$1": "df_sql1"
    }
   },
   "source": [
    "%%sql\n",
    "/* Rebuid the database */\n",
    "\n",
    "# The user table stores the information of users.\n",
    "create table if not exists User (\n",
    "    id          int primary key auto_increment,\n",
    "    username    varchar(255) not null, \n",
    "    password    varchar(255) not null, \n",
    "    grade       enum('beginner', 'intermediate', 'advanced', 'expert') default 'beginner'\n",
    ");\n",
    "\n",
    "# Problems in the system.\n",
    "create table if not exists Problem (\n",
    "    id              int primary key auto_increment, \n",
    "    title           varchar(255) not null, \n",
    "    author_id       int, \n",
    "    handin_time     timestamp default current_timestamp,\n",
    "    description     text not null, \n",
    "    difficulty      enum('easy', 'medium', 'hard') not null, \n",
    "    time_limit      int not null default 1000, # ms\n",
    "    memory_limit    int not null default 128, # MB\n",
    "    # Do not delete the problem when the author is deleted.\n",
    "    foreign key (author_id) references User (id) on delete set null \n",
    ");\n",
    "\n",
    "# A submission from a user to a problem.\n",
    "create table if not exists Submission (\n",
    "    id              int primary key auto_increment,\n",
    "    problem_id      int not null,\n",
    "    user_id         int,\n",
    "    submit_time     timestamp default current_timestamp, \n",
    "    code            text not null, \n",
    "    language        enum('C/C++', 'Java', 'Python') not null,\n",
    "    status          enum('passed', 'failed') default null,\n",
    "    score           int default 0,\n",
    "    foreign key (problem_id) references Problem (id) on delete cascade,\n",
    "    foreign key (user_id) references User (id) on delete set null\n",
    ");\n",
    "\n",
    "# Input and output pairs of a problem.\n",
    "create table if not exists IOPair (\n",
    "    id          int not null, # weak entity\n",
    "    problem_id  int not null,\n",
    "    input       text not null,\n",
    "    output      text not null,\n",
    "    score       int not null,\n",
    "    type        enum('sample', 'test') not null default 'test',\n",
    "    # Notice: If the IO pair is a sample, the score doesn't matter.\n",
    "    foreign key (problem_id) references Problem (id) on delete cascade,\n",
    "    primary key (id, problem_id)  # composite primary key\n",
    ");\n",
    "\n",
    "# A checkpoint is a submission from user on specific IO pair.\n",
    "create table if not exists Checkpoint (\n",
    "    id              int primary key auto_increment,\n",
    "    problem_id      int not null,\n",
    "    iopair_id       int not null,\n",
    "    submission_id   int not null,\n",
    "    status          enum('P', 'AC', 'WA', 'TLE', 'MLE', 'RE', 'CE') not null default 'P',\n",
    "    time_usage      int,\n",
    "    memory_usage    int,\n",
    "    info            text,\n",
    "    score           int default 0,\n",
    "    foreign key (iopair_id, problem_id) references IOPair (id, problem_id) on delete cascade,\n",
    "    foreign key (submission_id) references Submission (id) on delete cascade\n",
    ");\n",
    "\n",
    "# A post is a message from a user commit under a problem.\n",
    "create table if not exists Post\n",
    "(\n",
    "    id          int primary key auto_increment,\n",
    "    title       varchar(255) not null,\n",
    "    author_id   int,\n",
    "    content     text not null,\n",
    "    create_time timestamp default current_timestamp,\n",
    "    problem_id  int,\n",
    "    foreign key (author_id) references User (id) on delete set null,\n",
    "    foreign key (problem_id) references Problem (id) on delete set null\n",
    ");\n",
    "\n",
    "# A comment is a message from a user commit under a post.\n",
    "create table if not exists Comment\n",
    "(\n",
    "    id          int primary key auto_increment,\n",
    "    post_id     int,\n",
    "    author_id   int,\n",
    "    content     text not null,\n",
    "    create_time timestamp default current_timestamp,\n",
    "    foreign key (post_id) references Post (id) on delete cascade,\n",
    "    foreign key (author_id) references User (id) on delete set null\n",
    ");"
   ],
   "outputs": []
  },
  {
   "cell_type": "markdown",
   "metadata": {},
   "source": [
    "一个触发器，当用户通过足够多的题目时提升用户等级。\n",
    "\n",
    "> 注：如遇报错，说明云端的服务器MySQL版本不能正常运行，经本机测试有效。\n",
    ">\n",
    "> 如需本地测试，在 [配置JSON文件](./config.json)中修改数据库链接即可。"
   ],
   "id": "fcaf90afa0f7e641"
  },
  {
   "cell_type": "code",
   "execution_count": 70,
   "metadata": {
    "vscode": {
     "languageId": "sql"
    },
    "SqlCellData": {
     "variableName$1": "df_sql2"
    }
   },
   "source": [
    "%%sql\n",
    "create trigger if not exists update_user_grade\n",
    "    after update\n",
    "    on Submission\n",
    "    for each row\n",
    "begin\n",
    "    declare passed_num int;\n",
    "    select count(distinct problem_id)\n",
    "    into passed_num\n",
    "    from Submission\n",
    "    where user_id = new.user_id\n",
    "      and status = 'passed';\n",
    "    if passed_num >= 4 then\n",
    "        update User set grade = 'expert' where id = new.user_id;\n",
    "    elseif passed_num >= 3 then\n",
    "        update User set grade = 'advanced' where id = new.user_id;\n",
    "    elseif passed_num >= 2 then\n",
    "        update User set grade = 'intermediate' where id = new.user_id;\n",
    "    end if;\n",
    "end;"
   ],
   "id": "6007e0c1bbc1eec6",
   "outputs": []
  },
  {
   "cell_type": "markdown",
   "id": "8a90248049580f43",
   "metadata": {},
   "source": [
    "## 五、数据库服务\n",
    "### 1. 插入数据\n",
    "演示如何插入相关数据。\n",
    "这里提供了一个简单的测试问题：计算两个整数之和，并提供了三个测试点。此外，还有用户发表的两个帖子和三个对帖子的评论。"
   ]
  },
  {
   "cell_type": "code",
   "execution_count": 71,
   "id": "84dbd921",
   "metadata": {
    "ExecuteTime": {
     "end_time": "2024-04-08T12:35:14.088232Z",
     "start_time": "2024-04-08T12:35:14.014615Z"
    },
    "vscode": {
     "languageId": "sql"
    },
    "SqlCellData": {
     "variableName$1": "df_sql3"
    }
   },
   "source": [
    "%%sql\n",
    "/* Generate test data */\n",
    "\n",
    "# User\n",
    "insert into User (username, password)\n",
    "values ('Admin', '123456');\n",
    "insert into User (username, password)\n",
    "values ('Alice', 'alice20050825');\n",
    "insert into User (username, password)\n",
    "values ('Bob', 'IDontCarePassword');\n",
    "\n",
    "# Problem\n",
    "insert into Problem (title, author_ID, description, difficulty, time_limit, memory_limit)\n",
    "values ('A+B Problem', 1, '计算两整数之和。', 'easy', 1000, 256);\n",
    "insert into IOPair (id, problem_id, input, output, score, type) \n",
    "values (1, 1, '1 2', '3', 0, 'sample');\n",
    "insert into IOPair (id, problem_id, input, output, score, type)\n",
    "values (2, 1, '0 0', '0', 10, 'test');\n",
    "insert into IOPair (id, problem_id, input, output, score, type)\n",
    "values (3, 1, '-156 -1213', '-1369', 40, 'test');\n",
    "insert into IOPair (id, problem_id, input, output, score, type)\n",
    "values (4, 1, '6165481 84615613', '90781094', 50, 'test');\n",
    "\n",
    "# Post\n",
    "insert into Post (title, author_id, content, problem_id)\n",
    "values ('A+B Problem的Python解答', 1, '很简单的问题，Python代码如下：\n",
    "```python\n",
    "a, b = map(int, input().split())\n",
    "print(a + b)\n",
    "```\n",
    "', 1);\n",
    "insert into Post (title, author_id, content, problem_id)\n",
    "values ('Java方法', 1, '我用Java写的。Java的输入必须要新建一个Scanner对象\n",
    "```java\n",
    "import java.util.Scanner;\n",
    "public class Main {\n",
    "    public static void main(String[] args) {\n",
    "        Scanner sc = new Scanner(System.in);\n",
    "        int a = sc.nextint();\n",
    "        int b = sc.nextInt();\n",
    "        System.out.println(a + b);\n",
    "    }\n",
    "}\n",
    "```\n",
    "', 1);\n",
    "\n",
    "# Comment\n",
    "insert into Comment (post_id, author_id, content)\n",
    "values (1, 2, \"tql！第一次学会了用Python写程序，我之前写的都是C++不知道Python怎么转换类型\");\n",
    "insert into Comment (post_id, author_id, content)\n",
    "values (1, 3, \"我只是路过的，因为我还有数据库实习作业要写\");\n",
    "insert into Comment (post_id, author_id, content)\n",
    "values (2, 3, \"楼主有笔误啊，是`int a = sc.nextInt();`而不是`nextint();`\");"
   ],
   "outputs": []
  },
  {
   "cell_type": "code",
   "execution_count": 72,
   "id": "f3974094",
   "metadata": {
    "ExecuteTime": {
     "end_time": "2024-04-08T12:35:14.118348Z",
     "start_time": "2024-04-08T12:35:14.092863Z"
    },
    "vscode": {
     "languageId": "sql"
    },
    "SqlCellData": {
     "variableName$1": "df_sql4"
    }
   },
   "source": [
    "%%sql\n",
    "select * from User;"
   ],
   "outputs": []
  },
  {
   "cell_type": "code",
   "execution_count": 73,
   "id": "802affae",
   "metadata": {
    "ExecuteTime": {
     "end_time": "2024-04-08T12:35:14.147834Z",
     "start_time": "2024-04-08T12:35:14.126046Z"
    },
    "vscode": {
     "languageId": "sql"
    },
    "SqlCellData": {
     "variableName$1": "df_sql5"
    }
   },
   "source": [
    "%%sql\n",
    "select * from Problem;"
   ],
   "outputs": []
  },
  {
   "cell_type": "code",
   "execution_count": 74,
   "id": "c23bd12f",
   "metadata": {
    "ExecuteTime": {
     "end_time": "2024-04-08T12:35:14.201078Z",
     "start_time": "2024-04-08T12:35:14.153501Z"
    },
    "vscode": {
     "languageId": "sql"
    },
    "SqlCellData": {
     "variableName$1": "df_sql6"
    }
   },
   "source": [
    "%%sql\n",
    "select * from IOPair;"
   ],
   "outputs": []
  },
  {
   "cell_type": "markdown",
   "id": "9e7fa76c577d888c",
   "metadata": {},
   "source": [
    "### 2. 对用户上传的代码进行评测\n",
    "\n",
    "这是本次实习的核心函数。主要步骤：\n",
    "- 从数据库中获取用户的提交内容\n",
    "- 从数据库中获取问题的时间空间限制和测试用例\n",
    "- 评测用户代码\n",
    "- 把测评结果写回数据库\n",
    "\n",
    "关于如何评测代码的细节，请参看 [代码检查程序](./utils/code_checker.py)。"
   ]
  },
  {
   "cell_type": "code",
   "execution_count": 75,
   "id": "decb62ab",
   "metadata": {
    "ExecuteTime": {
     "end_time": "2024-04-08T12:44:45.624701Z",
     "start_time": "2024-04-08T12:44:45.615833Z"
    }
   },
   "source": [
    "from utils.code_checker import Code_Checker\n",
    "from utils.data_helper import *\n",
    "\n",
    "\n",
    "def submit_code(submission_id):\n",
    "    \"\"\"Let a user submit a code to a problem. The code will be tested by the checker.\"\"\"\n",
    "    # Get the submission info\n",
    "    sql = f\"select * from Submission where id = {submission_id};\"\n",
    "    cursor.execute(sql)\n",
    "    submission = fetch_cursor(cursor)[0]\n",
    "    problem_id, code, language = (\n",
    "        submission[\"problem_id\"],\n",
    "        submission[\"code\"],\n",
    "        submission[\"language\"],\n",
    "    )\n",
    "\n",
    "    # Get the problem info\n",
    "    sql = f\"select * from Problem where id = {problem_id};\"\n",
    "    cursor.execute(sql)\n",
    "    problem = fetch_cursor(cursor)[0]\n",
    "    time_limit, memory_limit = problem[\"time_limit\"], problem[\"memory_limit\"]\n",
    "\n",
    "    # Get the IO pairs to test\n",
    "    sql = f\"select * from IOPair where problem_id = {problem_id};\"\n",
    "    cursor.execute(sql)\n",
    "    io_pairs = fetch_cursor(cursor)\n",
    "\n",
    "    question_status = \"passed\"\n",
    "    question_score = 0\n",
    "    for io_pair in io_pairs:\n",
    "        # Get the IO info\n",
    "        input_data, expected_output, score, io_type = (\n",
    "            io_pair[\"input\"],\n",
    "            io_pair[\"output\"],\n",
    "            io_pair[\"score\"],\n",
    "            io_pair[\"type\"],\n",
    "        )\n",
    "        if io_type == \"sample\":\n",
    "            continue\n",
    "        # Test the code\n",
    "        checker = Code_Checker()\n",
    "        checker.set_io(code, language, input_data, expected_output, submission_id)\n",
    "        checker.set_limit(time_limit, memory_limit)\n",
    "        status, info, used_time, used_memory = checker.test()\n",
    "        if status != \"AC\":\n",
    "            question_status = \"failed\"\n",
    "            score = 0\n",
    "        question_score += score\n",
    "        # insert a new Checkpoint\n",
    "        sql = (\n",
    "            f\"insert into Checkpoint (problem_id, iopair_id, submission_id, status, info, time_usage, memory_usage, score) \"\n",
    "            f\"values ({problem_id}, {io_pair['id']}, {submission_id}, '{status}', '{info}', {used_time}, {used_memory}, {score});\"\n",
    "        )\n",
    "        cursor.execute(sql)\n",
    "\n",
    "    # Update the submission\n",
    "    sql = f\"update Submission set status = '{question_status}', score = {question_score} where id = {submission_id};\"\n",
    "    cursor.execute(sql)\n",
    "    db.commit()"
   ],
   "outputs": []
  },
  {
   "cell_type": "markdown",
   "id": "31a5061205e2fe29",
   "metadata": {},
   "source": [
    "### 3. 测试效果\n",
    "现在让用户上传一份代码\n",
    "```py\n",
    "a,b=map(int,input().split())\n",
    "print(a+b)\n",
    "```\n",
    "应当通过。另一份代码写成乘法了，应当产生结果错误，但依然能碰巧通过一个测试点。"
   ]
  },
  {
   "cell_type": "code",
   "execution_count": 76,
   "id": "c0a9fd91",
   "metadata": {
    "ExecuteTime": {
     "end_time": "2024-04-08T12:35:14.292642Z",
     "start_time": "2024-04-08T12:35:14.261708Z"
    },
    "vscode": {
     "languageId": "sql"
    },
    "SqlCellData": {
     "variableName$1": "df_sql7"
    }
   },
   "source": [
    "%%sql\n",
    "insert into Submission (problem_id, user_id, code, language) \n",
    "values(1,2,\"a,b=map(int,input().split())\\nprint(a+b)\",'Python'); # AC\n",
    "insert into Submission (problem_id, user_id, code, language)\n",
    "values(1,2,\"a,b=map(int,input().split())\\nprint(a*b)\",'Python'); # WA"
   ],
   "outputs": []
  },
  {
   "cell_type": "code",
   "execution_count": 77,
   "id": "f2cc7c50a5da2a22",
   "metadata": {
    "ExecuteTime": {
     "end_time": "2024-04-08T12:44:46.229732Z",
     "start_time": "2024-04-08T12:44:45.642986Z"
    }
   },
   "source": [
    "submit_code(1)\n",
    "submit_code(2)"
   ],
   "outputs": []
  },
  {
   "cell_type": "markdown",
   "metadata": {},
   "source": [
    "查看提交代码的信息和更详细的逐个测试点信息，正确代码得到满分，错误代码也能得到部分分数。\n",
    "\n",
    "此外，如有需要，可以查看具体的测试点。"
   ],
   "id": "cc497d41812001cd"
  },
  {
   "cell_type": "code",
   "execution_count": 78,
   "id": "8a1e567a",
   "metadata": {
    "ExecuteTime": {
     "end_time": "2024-04-08T12:35:15.418327Z",
     "start_time": "2024-04-08T12:35:15.382897Z"
    },
    "vscode": {
     "languageId": "sql"
    },
    "SqlCellData": {
     "variableName$1": "df_sql8"
    }
   },
   "source": [
    "%%sql\n",
    "select * from Submission;"
   ],
   "outputs": []
  },
  {
   "cell_type": "code",
   "execution_count": 79,
   "id": "c4c15a3e",
   "metadata": {
    "ExecuteTime": {
     "end_time": "2024-04-08T12:35:15.379345Z",
     "start_time": "2024-04-08T12:35:15.341158Z"
    },
    "vscode": {
     "languageId": "sql"
    },
    "SqlCellData": {
     "variableName$1": "df_sql9"
    }
   },
   "source": [
    "%%sql\n",
    "select * from Checkpoint;"
   ],
   "outputs": []
  },
  {
   "cell_type": "markdown",
   "metadata": {},
   "source": [
    "### 4. 更多数据\n",
    "现在进行一些数据库的查询，为避免大段代码插入数据，选择从CSV读取，然后将其插入到数据库中。\n",
    "\n",
    "> 注：评测十几份代码可能会花费一二十秒的时间。\n",
    ">\n",
    "> 如遇报错，大概率是命令行指令错误。请确保电脑中含有g++, python3, java编译器。"
   ],
   "id": "d3449d1cf1fd2f4d"
  },
  {
   "cell_type": "code",
   "execution_count": 80,
   "metadata": {},
   "source": [
    "setURL(config[\"user\"], config[\"password\"], config[\"host\"], config[\"port\"], config[\"db\"])\n",
    "csv2sql(\"./data/user.csv\", \"user\")  # see the function in data_helper.py\n",
    "csv2sql(\"./data/problem.csv\", \"problem\")\n",
    "csv2sql(\"./data/post.csv\", \"post\")\n",
    "csv2sql(\"./data/comment.csv\", \"comment\")\n",
    "csv2sql_IOpair(\"./data/iopair.csv\", \"iopair\")\n",
    "csv2sql_submission(\"./data/submission.csv\", \"submission\")\n",
    "\n",
    "# prepare for the submission\n",
    "sql = \"select count(*) from Submission;\"\n",
    "cursor.execute(sql)\n",
    "submission_num = cursor.fetchone()[0]\n",
    "\n",
    "# NOTE: MAY COST A LONG TIME HERE!\n",
    "# Make sure you have python interpreter, javac and g++ compiler on your PC\n",
    "for i in range(3, submission_num + 1):\n",
    "    print(\"testing submission\", i, \"...\")\n",
    "    submit_code(i)\n",
    "print(\"All submissions have been tested!\")"
   ],
   "id": "d7f3080b178e59a8",
   "outputs": []
  },
  {
   "cell_type": "code",
   "execution_count": 81,
   "metadata": {
    "vscode": {
     "languageId": "sql"
    },
    "SqlCellData": {
     "variableName$1": "df_sql10"
    }
   },
   "source": [
    "%%sql\n",
    "# avoid a too long code from being shown in the chart\n",
    "select problem_id,user_id,submit_time,CONCAT(LEFT(code,20), \"...\") as code,language,status,score from Submission\n",
    "limit 7;"
   ],
   "id": "68a25040b2246768",
   "outputs": []
  },
  {
   "cell_type": "markdown",
   "metadata": {},
   "source": [
    "### 5. 触发器测试\n",
    "查看所有用户，如果SQL版本适配，按照触发器，Alice应成为intermediate，Bob应成为advanced（原CSV文件中没有指定用户等级，默认都是beginner）。\n",
    "\n",
    "> 注：云端的SQL版本不适配可能会失效。"
   ],
   "id": "d6992005c679f514"
  },
  {
   "cell_type": "code",
   "execution_count": 82,
   "metadata": {
    "vscode": {
     "languageId": "sql"
    },
    "SqlCellData": {
     "variableName$1": "df_sql11"
    }
   },
   "source": [
    "%%sql\n",
    "select * from User;"
   ],
   "id": "3bda8539edb1a346",
   "outputs": []
  },
  {
   "cell_type": "markdown",
   "id": "24f9d54e2c5ae7c",
   "metadata": {},
   "source": [
    "## 六、数据库查询\n",
    "- 查询问题的所有提交 "
   ]
  },
  {
   "cell_type": "code",
   "execution_count": null,
   "id": "15ac5084",
   "metadata": {
    "ExecuteTime": {
     "end_time": "2024-04-08T12:35:15.444508Z",
     "start_time": "2024-04-08T12:35:15.424330Z"
    },
    "vscode": {
     "languageId": "sql"
    },
    "SqlCellData": {
     "variableName$1": "df_sql12"
    }
   },
   "source": [
    "%%sql\n",
    "set @problem_id = 1; # The problem id you want to query.\n",
    "select * from Submission where problem_id = @problem_id;"
   ],
   "outputs": []
  },
  {
   "cell_type": "markdown",
   "id": "c7233292a5528f15",
   "metadata": {},
   "source": [
    "- 查询用户所有的通过题目的提交"
   ]
  },
  {
   "cell_type": "code",
   "execution_count": null,
   "id": "dd0eeb61988e1615",
   "metadata": {
    "ExecuteTime": {
     "end_time": "2024-04-08T12:35:15.520889Z",
     "start_time": "2024-04-08T12:35:15.450819Z"
    },
    "vscode": {
     "languageId": "sql"
    },
    "SqlCellData": {
     "variableName$1": "df_sql13"
    }
   },
   "source": [
    "%%sql\n",
    "\n",
    "select user_id, problem_id, id as submission_id\n",
    "from Submission\n",
    "where Submission.status = 'passed'"
   ],
   "outputs": []
  },
  {
   "cell_type": "markdown",
   "id": "c4fb5cc95112711",
   "metadata": {},
   "source": [
    "- 查询最热门的题目"
   ]
  },
  {
   "cell_type": "code",
   "execution_count": null,
   "id": "aade5a1b",
   "metadata": {
    "ExecuteTime": {
     "end_time": "2024-04-08T12:35:15.552214Z",
     "start_time": "2024-04-08T12:35:15.525284Z"
    },
    "vscode": {
     "languageId": "sql"
    },
    "SqlCellData": {
     "variableName$1": "df_sql14"
    }
   },
   "source": [
    "%%sql\n",
    "select problem_id as hot_problem_id\n",
    "from Submission S\n",
    "group by problem_id\n",
    "order by count(*) desc\n",
    "limit 1;"
   ],
   "outputs": []
  },
  {
   "cell_type": "markdown",
   "id": "2e1e9908bf75612a",
   "metadata": {},
   "source": [
    "- 查询通过率（AC数/提交数）最高的用户"
   ]
  },
  {
   "cell_type": "code",
   "execution_count": null,
   "id": "fe08740c02962971",
   "metadata": {
    "ExecuteTime": {
     "end_time": "2024-04-08T12:35:15.583205Z",
     "start_time": "2024-04-08T12:35:15.556639Z"
    },
    "vscode": {
     "languageId": "sql"
    },
    "SqlCellData": {
     "variableName$1": "df_sql15"
    }
   },
   "source": [
    "%%sql\n",
    "select User.*\n",
    "from User\n",
    "join Submission on User.id = Submission.user_id\n",
    "group by User.id\n",
    "order by count(\n",
    "    case\n",
    "        when Submission.status = 'passed' then 1\n",
    "    end\n",
    ") * 1.0 / count(*) desc\n",
    "limit 1;"
   ],
   "outputs": []
  },
  {
   "cell_type": "markdown",
   "id": "fc478efdff1d91a1",
   "metadata": {},
   "source": [
    "- 按照评论数排序某一道题下的热门评论，这里以第三题为例"
   ]
  },
  {
   "cell_type": "code",
   "execution_count": null,
   "id": "d6502222c80b2139",
   "metadata": {
    "ExecuteTime": {
     "end_time": "2024-04-08T12:44:46.351744Z",
     "start_time": "2024-04-08T12:44:46.334024Z"
    },
    "vscode": {
     "languageId": "sql"
    },
    "SqlCellData": {
     "variableName$1": "df_sql16"
    }
   },
   "source": [
    "%%sql\n",
    "\n",
    "set @problem_id = 3; # The problem id you want to query.\n",
    "select Post.id, Post.content, comment_count\n",
    "from Post join (select post_id, count(*) as comment_count\n",
    "               from Comment\n",
    "               group by post_id) C on Post.id = C.post_id\n",
    "where Post.problem_id = @problem_id\n",
    "union all\n",
    "select Post.id, Post.content, 0 as comment_count\n",
    "from Post\n",
    "where Post.problem_id = @problem_id\n",
    "  and Post.id not in (select post_id\n",
    "                      from Comment);"
   ],
   "outputs": []
  },
  {
   "cell_type": "markdown",
   "id": "b73ad5391446ecf1",
   "metadata": {},
   "source": [
    "- 按评论数量对用户进行排序"
   ]
  },
  {
   "cell_type": "code",
   "execution_count": null,
   "id": "372a0f02bbffc022",
   "metadata": {
    "ExecuteTime": {
     "end_time": "2024-04-08T12:44:46.365120Z",
     "start_time": "2024-04-08T12:44:46.353263Z"
    },
    "vscode": {
     "languageId": "sql"
    },
    "SqlCellData": {
     "variableName$1": "df_sql17"
    }
   },
   "source": [
    "%%sql\n",
    "select author_id as most_comment_user, count(*) as comment_count\n",
    "from comment\n",
    "group by author_id\n",
    "order by count(*) desc"
   ],
   "outputs": []
  }
 ],
 "metadata": {
  "kernelspec": {
   "display_name": "Python 3 (ipykernel)",
   "language": "python",
   "name": "python3"
  },
  "language_info": {
   "codemirror_mode": {
    "name": "ipython",
    "version": 3
   },
   "file_extension": ".py",
   "mimetype": "text/x-python",
   "name": "python",
   "nbconvert_exporter": "python",
   "pygments_lexer": "ipython3",
   "version": "3.10.5"
  }
 },
 "nbformat": 4,
 "nbformat_minor": 5
}
